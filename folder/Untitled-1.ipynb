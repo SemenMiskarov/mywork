{
 "cells": [
  {
   "cell_type": "code",
   "execution_count": 34,
   "metadata": {},
   "outputs": [
    {
     "name": "stdout",
     "output_type": "stream",
     "text": [
      "H12\n",
      "S9\n",
      "A11\n"
     ]
    }
   ],
   "source": [
    "with open('file.txt','r') as file:\n",
    "    j = 0\n",
    "    arr = file.readlines()\n",
    "    for i, word in enumerate(arr):\n",
    "        print(str(word[j])+str(len(arr[i][:-1])))      "
   ]
  },
  {
   "cell_type": "code",
   "execution_count": 72,
   "metadata": {},
   "outputs": [
    {
     "name": "stdout",
     "output_type": "stream",
     "text": [
      "H12\n",
      "S9\n",
      "A11\n"
     ]
    }
   ],
   "source": [
    "file = open('file.txt','r')\n",
    "text = file.readlines()\n",
    "for i in range(len(text)):\n",
    "    print(str(text[i][0])+str(len(text[i][:-1])))\n",
    "file.close()"
   ]
  },
  {
   "cell_type": "code",
   "execution_count": 43,
   "metadata": {},
   "outputs": [
    {
     "name": "stdout",
     "output_type": "stream",
     "text": [
      "Mazda RX-8\n"
     ]
    }
   ],
   "source": [
    "class Car:\n",
    "    def __init__(self,name):\n",
    "        self.name = name\n",
    "mazda_car = Car(name='Mazda RX-8')\n",
    "\n",
    "print(mazda_car.name)"
   ]
  },
  {
   "cell_type": "code",
   "execution_count": 56,
   "metadata": {},
   "outputs": [
    {
     "name": "stdout",
     "output_type": "stream",
     "text": [
      "[0, 4]\n"
     ]
    }
   ],
   "source": [
    "nums = [1,2,3,4,5]\n",
    "target = 6\n",
    "def TwoSum(nums,target):\n",
    "    for i in range(len(nums)-1):\n",
    "        for j in range(i+1,len(nums)):\n",
    "            if nums[i] + nums[j] == target:\n",
    "                return [i,j]\n",
    "print(TwoSum(nums,target))"
   ]
  },
  {
   "cell_type": "code",
   "execution_count": 58,
   "metadata": {},
   "outputs": [
    {
     "name": "stdout",
     "output_type": "stream",
     "text": [
      "3 4\n"
     ]
    }
   ],
   "source": [
    "arr=[1,2,3,4,5]\n",
    "target=9\n",
    "for i in range(len(arr)-1):\n",
    "    for j in range(i+1,len(arr)):\n",
    "        if arr[i]+arr[j]==target:\n",
    "            print(i,j)"
   ]
  },
  {
   "cell_type": "code",
   "execution_count": 63,
   "metadata": {},
   "outputs": [
    {
     "name": "stdout",
     "output_type": "stream",
     "text": [
      "var1=1\n",
      "dict_items([('var1', 1), ('var2', None), ('var3', 'asd'), ('a', 1)])\n",
      "var1=1\n",
      "var1=None\n",
      "var3=asd\n",
      "{'var1': 1, 'var2': None, 'var3': 'asd', 'a': 1, 'res_dict': {...}}\n"
     ]
    }
   ],
   "source": [
    "def three_args(var1, var2, var3):\n",
    "    a = 1\n",
    "    res_dict = locals()\n",
    "    #print('Аргументы: ', *(f'{key} = {value}' for key, value in res_dict.items() if value))\n",
    "    print(f'var1={str(res_dict[\"var1\"])}')\n",
    "    print(res_dict.items())\n",
    "    print('var1={var1}'.format(**res_dict))\n",
    "    print('var1={var2}'.format(**res_dict))\n",
    "    print('var3={var3}'.format(**res_dict))\n",
    "    print(locals())\n",
    "\n",
    " \n",
    "three_args(1, None, 'asd')"
   ]
  },
  {
   "attachments": {},
   "cell_type": "markdown",
   "metadata": {},
   "source": [
    "!!! Разобраться с тем как работает format !!!\n"
   ]
  },
  {
   "cell_type": "code",
   "execution_count": null,
   "metadata": {},
   "outputs": [],
   "source": [
    "def three_args(var1, var2, var3):\n",
    "    a = 1\n",
    "    res_dict = locals()\n",
    "    #print('Аргументы: ', *(f'{key} = {value}' for key, value in res_dict.items() if value))\n",
    "    print(f'var1={str(res_dict[\"var1\"])}')\n",
    "    print(res_dict.items())\n",
    "    print('var1={var1}'.format(**res_dict))\n",
    "    print('var1={var1}'.format(var1=res_dict['']))\n",
    "    print('var3={var3}'.format(**res_dict))\n",
    "    print(locals())\n",
    "\n",
    " \n",
    "three_args(1, None, 'asd')"
   ]
  },
  {
   "attachments": {},
   "cell_type": "markdown",
   "metadata": {},
   "source": [
    "У меня трудности с ООП, разобраться нужно\n",
    "\n",
    "Функции поюзать и разобраться\n",
    "\n",
    "LeetCode+ООП архив+Django"
   ]
  },
  {
   "attachments": {},
   "cell_type": "markdown",
   "metadata": {},
   "source": [
    "После уже можно ML заниматься\n"
   ]
  },
  {
   "cell_type": "code",
   "execution_count": 10,
   "metadata": {},
   "outputs": [
    {
     "name": "stdout",
     "output_type": "stream",
     "text": [
      "Mazda CX7\n",
      "red wheels 4\n",
      "[123, 3, 2, 1, 3]\n",
      "12\n"
     ]
    }
   ],
   "source": [
    "class Car:\n",
    "    #чтобы присвоить атрибут всем объектам и он создается автомат. при созд-ии объекта класса\n",
    "    wheels_number = 4 #атрибут класса который у всех объектов. Кол-во колес\n",
    "    def __init__ (self,name,color,year):\n",
    "        self.name = name\n",
    "        self.color = color\n",
    "        self.year = year\n",
    "\n",
    "Mazda = Car(name='Mazda CX7', color = 'red', year = 2017)\n",
    "\n",
    "print(Mazda.name)\n",
    "print(Mazda.color, end = ' wheels ')\n",
    "print(Mazda.wheels_number)\n",
    "\n",
    "arr=[123,3,2,1]\n",
    "arr.append(3)\n",
    "print(arr)\n",
    "\n",
    "number_of_wheels_of_3_cars = Car.wheels_number * 3 #возможно обращение к this атрибуту через имя класса\n",
    "print(number_of_wheels_of_3_cars)"
   ]
  },
  {
   "cell_type": "code",
   "execution_count": 13,
   "metadata": {},
   "outputs": [
    {
     "name": "stdout",
     "output_type": "stream",
     "text": [
      "Car is drives\n",
      "Opel Tigrais driving\n"
     ]
    }
   ],
   "source": [
    "class Car:\n",
    "    wheels_number = 4 #атрибут класса который у всех объектов\n",
    "    def __init__ (self,name,color,year):\n",
    "        self.name = name #атрибуты\n",
    "        self.color = color\n",
    "        self.year = year\n",
    "\n",
    "    def drive(self): #метод\n",
    "        print('Car is drives')\n",
    "        print(self.name + 'is driving') #self нужно для того чтобы обращаться \n",
    "                                        #к атрибуту конкретного объекта\n",
    "opel_car = Car('Opel Tigra','yellow','1999')\n",
    "opel_car.drive() #обращаемся к методу\n",
    "\n"
   ]
  },
  {
   "cell_type": "code",
   "execution_count": 14,
   "metadata": {},
   "outputs": [
    {
     "name": "stdout",
     "output_type": "stream",
     "text": [
      "78.5\n",
      "31.400000000000002\n"
     ]
    }
   ],
   "source": [
    "class Circle:\n",
    "    pi = 3.14\n",
    "\n",
    "    def __init__(self,radius = 1):\n",
    "        self.radius = radius\n",
    "        self.circumference = 2 * self.pi * self.radius\n",
    "    def get_area(self):\n",
    "        return self.pi * (self.radius ** 2)\n",
    "\n",
    "circle_1 = Circle(5)\n",
    "print(circle_1.get_area()) \n",
    "print(circle_1.circumference)"
   ]
  },
  {
   "cell_type": "code",
   "execution_count": 73,
   "metadata": {},
   "outputs": [
    {
     "name": "stdout",
     "output_type": "stream",
     "text": [
      "True\n"
     ]
    }
   ],
   "source": [
    "class Solution:\n",
    "    def isPalindrome(self, x: int) -> bool:\n",
    "        y=str(x)\n",
    "        lst=list(y)\n",
    "        m=len(lst)\n",
    "        if(x<0):\n",
    "            return False\n",
    "        elif(x==0):\n",
    "            return True\n",
    "        else:\n",
    "            flag=1\n",
    "            for x in range((m+1)//2):\n",
    "                if(lst[x]!=lst[m-1-x]):\n",
    "                    return False\n",
    "                    flag=0\n",
    "            if(flag>0):\n",
    "                return True\n",
    "Z = Solution()\n",
    "print(Z.isPalindrome(121))"
   ]
  },
  {
   "cell_type": "code",
   "execution_count": 88,
   "metadata": {},
   "outputs": [
    {
     "name": "stdout",
     "output_type": "stream",
     "text": [
      "True\n"
     ]
    }
   ],
   "source": [
    "def Palindrome_Number(x):\n",
    "    y = str(x)\n",
    "    z = list(y)\n",
    "    l = len(z)\n",
    "    flag = 1\n",
    "    for x in range((l+1)//2):\n",
    "        if(z[x]!=z[l-1-x]):\n",
    "            return False\n",
    "            flag=0\n",
    "    if(flag>0):\n",
    "        return True\n",
    "c = Palindrome_Number(121)\n",
    "print(c)"
   ]
  },
  {
   "cell_type": "code",
   "execution_count": 40,
   "metadata": {},
   "outputs": [
    {
     "name": "stdout",
     "output_type": "stream",
     "text": [
      "4\n"
     ]
    }
   ],
   "source": [
    "def lengthOfLongestSubstring(s):\n",
    "    count = 0\n",
    "    s_result = ''\n",
    "\n",
    "    for i in s:\n",
    "        if i not in s_result:\n",
    "            s_result += i\n",
    "        else:\n",
    "            s_result = s_result[s_result.index(i)+1:] + i\n",
    "\n",
    "        if len(s_result) >= count:\n",
    "            count = len(s_result)\n",
    "\n",
    "    return count\n",
    "c = lengthOfLongestSubstring(\"abracadabra\")\n",
    "print(c)"
   ]
  },
  {
   "cell_type": "code",
   "execution_count": 1,
   "metadata": {},
   "outputs": [
    {
     "name": "stdout",
     "output_type": "stream",
     "text": [
      "4\n"
     ]
    }
   ],
   "source": [
    "class Solution:\n",
    "    def lengthOfLongestSubstring(self, s: str) -> int:\n",
    "        substring=\"\"\n",
    "        max_length=0\n",
    "        for char in s:\n",
    "            if char in substring:\n",
    "                char_index=substring.index(char)\n",
    "                substring=substring[(char_index+1):]\n",
    "            substring+=char\n",
    "            max_length=max(max_length,len(substring))\n",
    "\n",
    "        return max_length\n",
    "c = Solution()\n",
    "print(c.lengthOfLongestSubstring('abracadabra'))"
   ]
  },
  {
   "cell_type": "code",
   "execution_count": 3,
   "metadata": {},
   "outputs": [
    {
     "name": "stdout",
     "output_type": "stream",
     "text": [
      "Это палиндром!\n"
     ]
    }
   ],
   "source": [
    "class Solution(object):\n",
    "    def isPalindrome(self, x:int) -> int:\n",
    "        temp = x\n",
    "        rev = 0\n",
    "        while(x > 0):\n",
    "            dig = x % 10\n",
    "            rev = rev * 10 + dig\n",
    "            x = x // 10\n",
    "        if(temp == rev):\n",
    "            print(\"Это палиндром!\")\n",
    "        else:\n",
    "            print(\"Это не палиндром!\")\n",
    "c = Solution()\n",
    "c.isPalindrome(121)\n"
   ]
  },
  {
   "cell_type": "code",
   "execution_count": 12,
   "metadata": {},
   "outputs": [
    {
     "data": {
      "text/plain": [
       "True"
      ]
     },
     "execution_count": 12,
     "metadata": {},
     "output_type": "execute_result"
    }
   ],
   "source": [
    "class Solution:\n",
    "    def isPalindrome(self, x: int) -> bool:\n",
    "        return True if str(x) == z else False\n",
    "c = Solution()\n",
    "c.isPalindrome(121)"
   ]
  }
 ],
 "metadata": {
  "kernelspec": {
   "display_name": "base",
   "language": "python",
   "name": "python3"
  },
  "language_info": {
   "codemirror_mode": {
    "name": "ipython",
    "version": 3
   },
   "file_extension": ".py",
   "mimetype": "text/x-python",
   "name": "python",
   "nbconvert_exporter": "python",
   "pygments_lexer": "ipython3",
   "version": "3.9.13"
  },
  "orig_nbformat": 4,
  "vscode": {
   "interpreter": {
    "hash": "7758e92e9a61d7a3490898707f7eeb937c85e9d1e8d4e877cc6c187218f226d5"
   }
  }
 },
 "nbformat": 4,
 "nbformat_minor": 2
}
