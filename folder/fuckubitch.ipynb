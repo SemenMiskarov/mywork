{
 "cells": [
  {
   "cell_type": "code",
   "execution_count": 2,
   "metadata": {},
   "outputs": [],
   "source": [
    "import pandas as pd\n",
    "import openpyxl\n",
    "import csv"
   ]
  },
  {
   "cell_type": "code",
   "execution_count": 24,
   "metadata": {},
   "outputs": [
    {
     "data": {
      "text/plain": [
       "dict"
      ]
     },
     "execution_count": 24,
     "metadata": {},
     "output_type": "execute_result"
    }
   ],
   "source": [
    "dict_df1 = pd.read_excel(r'C:\\Users\\Z\\Downloads\\folder\\semakozel.xlsx', \n",
    "                   sheet_name=['sheet1'])\n",
    "dict_df2 = pd.read_excel(r'C:\\Users\\Z\\Downloads\\folder\\semakozel.xlsx', \n",
    "                   sheet_name=['sheet2'])\n",
    "dict_df3 = {**dict_df1, **dict_df2}\n",
    "df = pd.DataFrame.from_dict(dict_df1)\n",
    "\n",
    "# sub = pd.DataFrame(dict_df)\n",
    "# sub.to_csv('amtiredasfuck.csv',index = False,header = True)"
   ]
  },
  {
   "cell_type": "code",
   "execution_count": 39,
   "metadata": {},
   "outputs": [],
   "source": [
    "dict_df = pd.read_excel(r'C:\\Users\\Z\\Downloads\\folder\\semakozel.xlsx',\n",
    "        sheet_name=None,index_col = False)\n",
    "df = pd.DataFrame([dict_df])\n",
    "with open('iamtiredasfuck.csv','w') as file:\n",
    "    csv_writer = csv.DictWriter(file,fieldnames=dict_df)\n",
    "    csv_writer.writeheader()\n",
    "    csv_writer.writerow(dict_df)\n",
    "# df = pd.DataFrame.from_dict(dict_df, orient='index').reset_index()\n",
    "# df.columns = ['Name','Surname']\n",
    "# df"
   ]
  },
  {
   "cell_type": "code",
   "execution_count": 21,
   "metadata": {},
   "outputs": [
    {
     "name": "stdout",
     "output_type": "stream",
     "text": [
      "68.75\n"
     ]
    }
   ],
   "source": [
    "import numpy as np \n",
    "\n",
    "data = np.array(\n",
    "    [150000, 125000, 320000, 540000,\n",
    "     200000, 120000, 160000, 230000,\n",
    "     280000, 290000, 300000, 500000,\n",
    "     420000, 100000, 150000, 280000]\n",
    ")\n",
    "data_1 = np.array([])\n",
    "devian_sqare = np.std(data)\n",
    "median_data = np.median(data)\n",
    "data_1 = data[(data >= median_data - devian_sqare) & (data <= median_data + devian_sqare)]\n",
    "print((len(data_1)/len(data))*100)\n",
    "\n"
   ]
  }
 ],
 "metadata": {
  "kernelspec": {
   "display_name": "base",
   "language": "python",
   "name": "python3"
  },
  "language_info": {
   "codemirror_mode": {
    "name": "ipython",
    "version": 3
   },
   "file_extension": ".py",
   "mimetype": "text/x-python",
   "name": "python",
   "nbconvert_exporter": "python",
   "pygments_lexer": "ipython3",
   "version": "3.9.13"
  },
  "orig_nbformat": 4,
  "vscode": {
   "interpreter": {
    "hash": "7758e92e9a61d7a3490898707f7eeb937c85e9d1e8d4e877cc6c187218f226d5"
   }
  }
 },
 "nbformat": 4,
 "nbformat_minor": 2
}
